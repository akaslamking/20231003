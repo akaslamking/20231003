{
  "cells": [
    {
      "cell_type": "code",
      "execution_count": null,
      "metadata": {
        "colab": {
          "base_uri": "https://localhost:8080/"
        },
        "id": "RIS6m7M2hdWc",
        "outputId": "f3f2ae9b-6ae8-47ca-9bca-35e8fa9e6ae5"
      },
      "outputs": [
        {
          "output_type": "stream",
          "name": "stdout",
          "text": [
            "3 6 9 4 5\n",
            "5.0\n"
          ]
        }
      ],
      "source": [
        "a = list(map(int, input('').split()))\n",
        "b = sorted(a)\n",
        "del b[0]\n",
        "del b[-1]\n",
        "mean = sum(b)/len(b)\n",
        "print (mean)\n"
      ]
    },
    {
      "cell_type": "code",
      "execution_count": null,
      "metadata": {
        "colab": {
          "base_uri": "https://localhost:8080/"
        },
        "id": "qEcMCGRYtvJG",
        "outputId": "07bff8e8-0607-4aea-b8f0-7a84c7afb959"
      },
      "outputs": [
        {
          "output_type": "stream",
          "name": "stdout",
          "text": [
            "5 6\n",
            "*\n",
            "30.0\n"
          ]
        }
      ],
      "source": [
        "a=[float(i) for i in input('').split()]\n",
        "b=str(input())\n",
        "if b== '+':\n",
        "  print(a[0]+a[1])\n",
        "elif b== '-':\n",
        "  print(a[0]-a[1])\n",
        "elif b== '*':\n",
        "  print(a[0]*a[1])\n",
        "elif b== '/':\n",
        "  print(a[0]/a[1])"
      ]
    },
    {
      "cell_type": "code",
      "execution_count": null,
      "metadata": {
        "id": "HvWn4OxZtvYB",
        "colab": {
          "base_uri": "https://localhost:8080/"
        },
        "outputId": "76cbc9ca-2a8f-4794-8e04-da40317f820d"
      },
      "outputs": [
        {
          "output_type": "stream",
          "name": "stdout",
          "text": [
            "請輸入年份2023\n",
            "平年\n"
          ]
        }
      ],
      "source": [
        "a=int(input('請輸入年份'))\n",
        "if a>1581:\n",
        "  if a%400==0:\n",
        "    print('閏年')\n",
        "  elif a%100==0:\n",
        "    print('平年')\n",
        "  elif a%4==0:\n",
        "    print('閏年')\n",
        "  else:\n",
        "    print('平年')\n",
        "else:\n",
        "  if a%4==0:\n",
        "    print('閏年')\n",
        "  else:\n",
        "    print('平年')"
      ]
    }
  ],
  "metadata": {
    "colab": {
      "provenance": []
    },
    "kernelspec": {
      "display_name": "Python 3",
      "name": "python3"
    },
    "language_info": {
      "name": "python"
    }
  },
  "nbformat": 4,
  "nbformat_minor": 0
}